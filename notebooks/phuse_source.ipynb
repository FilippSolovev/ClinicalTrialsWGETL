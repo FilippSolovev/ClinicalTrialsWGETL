{
  "nbformat": 4,
  "nbformat_minor": 0,
  "metadata": {
    "colab": {
      "name": "phuse_custom_mapping.ipynb",
      "provenance": [],
      "collapsed_sections": []
    },
    "kernelspec": {
      "name": "python3",
      "display_name": "Python 3"
    }
  },
  "cells": [
    {
      "cell_type": "markdown",
      "metadata": {
        "id": "JGfiiS6m4o6T"
      },
      "source": [
        "[![Open In Colab](https://colab.research.google.com/assets/colab-badge.svg)](https://colab.research.google.com/github/FilippSolovev/ClinicalTrialsWGETL/blob/notebooks/notebooks/phuse_source.ipynb)"
      ]
    },
    {
      "cell_type": "markdown",
      "metadata": {
        "id": "sH3NEgxWNDv9"
      },
      "source": [
        "# **Custom mapping for PHUSE dataset**"
      ]
    },
    {
      "cell_type": "code",
      "metadata": {
        "id": "gex47eJkMqfO",
        "cellView": "form"
      },
      "source": [
        "#@title **This block of code will install PosgreSQL**\n",
        "%%capture\n",
        "!wget -qO- https://www.postgresql.org/media/keys/ACCC4CF8.asc | apt-key add -\n",
        "!echo \"deb http://apt.postgresql.org/pub/repos/apt/ bionic-pgdg main\" >/etc/apt/sources.list.d/pgdg.list\n",
        "!apt -qq update\n",
        "!apt -yq install postgresql-12 postgresql-client-12\n",
        "!service postgresql start\n",
        "# make calling psql shorter\n",
        "!sudo -u postgres psql -c \"CREATE USER root WITH SUPERUSER\"  \n",
        "!psql postgres -c \"CREATE DATABASE root\"  # now just !psql -c \"...\"\n",
        "# load SQL extensions\n",
        "%load_ext sql\n",
        "%config SqlMagic.feedback=False \n",
        "%config SqlMagic.autopandas=True\n",
        "%sql postgresql+psycopg2://@/postgres"
      ],
      "execution_count": null,
      "outputs": []
    },
    {
      "cell_type": "code",
      "metadata": {
        "id": "6p3GrsecPLOe"
      },
      "source": [
        "#@title **Download the PHUSE data to local environment**\n",
        "\n",
        "!wget -q https://raw.githubusercontent.com/OHDSI/ClinicalTrialsWGETL/master/data/source/csv/ae.csv\n",
        "!wget -q https://raw.githubusercontent.com/OHDSI/ClinicalTrialsWGETL/master/data/source/csv/cm.csv\n",
        "!wget -q https://raw.githubusercontent.com/OHDSI/ClinicalTrialsWGETL/master/data/source/csv/dm.csv\n",
        "!wget -q https://raw.githubusercontent.com/OHDSI/ClinicalTrialsWGETL/master/data/source/csv/ds.csv\n",
        "!wget -q https://raw.githubusercontent.com/OHDSI/ClinicalTrialsWGETL/master/data/source/csv/ex.csv\n",
        "!wget -q https://raw.githubusercontent.com/OHDSI/ClinicalTrialsWGETL/master/data/source/csv/lbch.csv\n",
        "!wget -q https://raw.githubusercontent.com/OHDSI/ClinicalTrialsWGETL/master/data/source/csv/lbhe.csv\n",
        "!wget -q https://raw.githubusercontent.com/OHDSI/ClinicalTrialsWGETL/master/data/source/csv/lbur.csv\n",
        "!wget -q https://raw.githubusercontent.com/OHDSI/ClinicalTrialsWGETL/master/data/source/csv/mh.csv\n",
        "!wget -q https://raw.githubusercontent.com/OHDSI/ClinicalTrialsWGETL/master/data/source/csv/qsco.csv\n",
        "!wget -q https://raw.githubusercontent.com/OHDSI/ClinicalTrialsWGETL/master/data/source/csv/qsda.csv\n",
        "!wget -q https://raw.githubusercontent.com/OHDSI/ClinicalTrialsWGETL/master/data/source/csv/qsgi.csv\n",
        "!wget -q https://raw.githubusercontent.com/OHDSI/ClinicalTrialsWGETL/master/data/source/csv/qshi.csv\n",
        "!wget -q https://raw.githubusercontent.com/OHDSI/ClinicalTrialsWGETL/master/data/source/csv/qsmm.csv\n",
        "!wget -q https://raw.githubusercontent.com/OHDSI/ClinicalTrialsWGETL/master/data/source/csv/qsni.csv\n",
        "!wget -q https://raw.githubusercontent.com/OHDSI/ClinicalTrialsWGETL/master/data/source/csv/relrec.csv\n",
        "!wget -q https://raw.githubusercontent.com/OHDSI/ClinicalTrialsWGETL/master/data/source/csv/sc.csv\n",
        "!wget -q https://raw.githubusercontent.com/OHDSI/ClinicalTrialsWGETL/master/data/source/csv/se.csv\n",
        "!wget -q https://raw.githubusercontent.com/OHDSI/ClinicalTrialsWGETL/master/data/source/csv/suppae.csv\n",
        "!wget -q https://raw.githubusercontent.com/OHDSI/ClinicalTrialsWGETL/master/data/source/csv/suppdm.csv\n",
        "!wget -q https://raw.githubusercontent.com/OHDSI/ClinicalTrialsWGETL/master/data/source/csv/suppds.csv\n",
        "!wget -q https://raw.githubusercontent.com/OHDSI/ClinicalTrialsWGETL/master/data/source/csv/supplbch.csv\n",
        "!wget -q https://raw.githubusercontent.com/OHDSI/ClinicalTrialsWGETL/master/data/source/csv/supplbhe.csv\n",
        "!wget -q https://raw.githubusercontent.com/OHDSI/ClinicalTrialsWGETL/master/data/source/csv/supplbur.csv\n",
        "!wget -q https://raw.githubusercontent.com/OHDSI/ClinicalTrialsWGETL/master/data/source/csv/sv.csv\n",
        "!wget -q https://raw.githubusercontent.com/OHDSI/ClinicalTrialsWGETL/master/data/source/csv/ta.csv\n",
        "!wget -q https://raw.githubusercontent.com/OHDSI/ClinicalTrialsWGETL/master/data/source/csv/te.csv\n",
        "!wget -q https://raw.githubusercontent.com/OHDSI/ClinicalTrialsWGETL/master/data/source/csv/ti.csv\n",
        "!wget -q https://raw.githubusercontent.com/OHDSI/ClinicalTrialsWGETL/master/data/source/csv/ts.csv\n",
        "!wget -q https://raw.githubusercontent.com/OHDSI/ClinicalTrialsWGETL/master/data/source/csv/tv.csv\n",
        "!wget -q https://raw.githubusercontent.com/OHDSI/ClinicalTrialsWGETL/master/data/source/csv/vs.csv\n",
        "\n",
        "!mkdir source\n",
        "!mv *.csv source/"
      ],
      "execution_count": null,
      "outputs": []
    },
    {
      "cell_type": "code",
      "metadata": {
        "colab": {
          "base_uri": "https://localhost:8080/"
        },
        "id": "ivfm-5tCUMCg",
        "outputId": "bda49220-1e34-4292-80da-fc45063bf211"
      },
      "source": [
        "#@title **Check the files**\n",
        "!ls source"
      ],
      "execution_count": null,
      "outputs": []
    },
    {
      "cell_type": "code",
      "metadata": {
        "colab": {
          "base_uri": "https://localhost:8080/",
          "height": 49
        },
        "id": "kXA7ijdSPYd9",
        "outputId": "6a61c242-5ba9-442f-b0f1-d169d93921b5"
      },
      "source": [
        "#@title **Create source tables**\n",
        "%%sql\n",
        "DROP SCHEMA IF EXISTS src CASCADE;\n",
        "\n",
        "CREATE SCHEMA src;\n",
        "\n",
        "CREATE TABLE src.ae\n",
        "(\n",
        "    studyid     VARCHAR(12),\n",
        "    domain      VARCHAR(2),\n",
        "    usubjid     VARCHAR(11),\n",
        "    aeseq       NUMERIC,\n",
        "    aespid      VARCHAR(3),\n",
        "    aeterm      VARCHAR(200),\n",
        "    aellt       VARCHAR(100),\n",
        "    aelltcd     INTEGER,\n",
        "    aedecod     VARCHAR(200),\n",
        "    aeptcd      INTEGER,\n",
        "    aehlt       VARCHAR(100),\n",
        "    aehltcd     INTEGER,\n",
        "    aehlgt      VARCHAR(100),\n",
        "    aehlgtcd    INTEGER,\n",
        "    aebodsys    VARCHAR(67),\n",
        "    aebdsycd    INTEGER,\n",
        "    aesoc       VARCHAR(100),\n",
        "    aesoccd     INTEGER,\n",
        "    aesev       VARCHAR(8),\n",
        "    aeser       VARCHAR(1),\n",
        "    aeacn       VARCHAR(30),\n",
        "    aerel       VARCHAR(8),\n",
        "    aeout       VARCHAR(200),\n",
        "    aescan      VARCHAR(1),\n",
        "    aescong     VARCHAR(1),\n",
        "    aesdisab    VARCHAR(1),\n",
        "    aesdth      VARCHAR(1),\n",
        "    aeshosp     VARCHAR(1),\n",
        "    aeslife     VARCHAR(1),\n",
        "    aesod       VARCHAR(1),\n",
        "    epoch       VARCHAR(9),\n",
        "    aedtc       VARCHAR(10),\n",
        "    aestdtc     VARCHAR(10),\n",
        "    aeendtc     VARCHAR(10),\n",
        "    aedy        INTEGER,\n",
        "    aestdy      INTEGER,\n",
        "    aeendy      INTEGER\n",
        ");\n",
        "\n",
        "COPY\n",
        "    src.ae(\n",
        "        studyid,\n",
        "        domain,\n",
        "        usubjid,\n",
        "        aeseq,\n",
        "        aespid,\n",
        "        aeterm,\n",
        "        aellt,\n",
        "        aelltcd,\n",
        "        aedecod,\n",
        "        aeptcd,\n",
        "        aehlt,\n",
        "        aehltcd,\n",
        "        aehlgt,\n",
        "        aehlgtcd,\n",
        "        aebodsys,\n",
        "        aebdsycd,\n",
        "        aesoc,\n",
        "        aesoccd,\n",
        "        aesev,\n",
        "        aeser,\n",
        "        aeacn,\n",
        "        aerel,\n",
        "        aeout,\n",
        "        aescan,\n",
        "        aescong,\n",
        "        aesdisab,\n",
        "        aesdth,\n",
        "        aeshosp,\n",
        "        aeslife,\n",
        "        aesod,\n",
        "        epoch,\n",
        "        aedtc,\n",
        "        aestdtc,\n",
        "        aeendtc,\n",
        "        aedy,\n",
        "        aestdy,\n",
        "        aeendy\n",
        "        )\n",
        "FROM '/content/source/ae.csv' DELIMITER ',' CSV HEADER;\n",
        "\n",
        "CREATE TABLE src.cm\n",
        "(\n",
        "    studyid\t\tVARCHAR(12),\n",
        "\tdomain\t\tVARCHAR(2),\n",
        "\tusubjid\t\tVARCHAR(11),\n",
        "\tcmseq\t\tNUMERIC,\n",
        "\tcmspid\t\tVARCHAR(2),\n",
        "\tcmtrt\t\tVARCHAR(44),\n",
        "\tcmdecod\t\tVARCHAR(24),\n",
        "\tcmindc\t\tVARCHAR(34),\n",
        "\tcmclas\t\tVARCHAR(42),\n",
        "\tcmdose\t\tNUMERIC,\n",
        "\tcmdosu\t\tVARCHAR(17),\n",
        "\tcmdosfrq\tVARCHAR(15),\n",
        "\tcmroute\t\tVARCHAR(200),\n",
        "\tvisitnum\tNUMERIC,\n",
        "\tvisit\t\tVARCHAR(19),\n",
        "\tvisitdy\t\tINTEGER,\n",
        "\tepoch\t\tVARCHAR(9),\n",
        "\tcmdtc\t\tVARCHAR(10),  -- for incomplete dates\n",
        "\tcmstdtc\t\tVARCHAR(10),  -- for incomplete dates\n",
        "\tcmendtc\t\tVARCHAR(10),  -- for incomplete dates\n",
        "\tcmdy\t\tINTEGER,\n",
        "\tcmstdy\t\tINTEGER,\n",
        "\tcmendy\t    INTEGER\n",
        ");\n",
        "\n",
        "COPY\n",
        "    src.cm(\n",
        "        studyid,\n",
        "    \tdomain,\n",
        "    \tusubjid,\n",
        "    \tcmseq,\n",
        "    \tcmspid,\n",
        "    \tcmtrt,\n",
        "    \tcmdecod,\n",
        "    \tcmindc,\n",
        "    \tcmclas,\n",
        "    \tcmdose,\n",
        "    \tcmdosu,\n",
        "    \tcmdosfrq,\n",
        "    \tcmroute,\n",
        "    \tvisitnum,\n",
        "    \tvisit,\n",
        "    \tvisitdy,\n",
        "    \tepoch,\n",
        "    \tcmdtc,\n",
        "    \tcmstdtc,\n",
        "    \tcmendtc,\n",
        "    \tcmdy,\n",
        "    \tcmstdy,\n",
        "    \tcmendy\n",
        "    )\n",
        "FROM '/content/source/cm.csv' DELIMITER ',' CSV HEADER; \n",
        "\n",
        "CREATE TABLE src.ta\n",
        "(\n",
        "    studyid     VARCHAR(12), -- PRIMARY KEY\n",
        "    domain      VARCHAR(2), -- or use TEXT?\n",
        "    armcd       VARCHAR(8),\n",
        "    arm         VARCHAR(20),\n",
        "    taetord     INTEGER,\n",
        "    etcd        VARCHAR(200),\n",
        "    element     VARCHAR(200),\n",
        "    tabranch    VARCHAR(200),\n",
        "    tatrans     VARCHAR(200),\n",
        "    epoch       VARCHAR(200)\n",
        ");\n",
        "\n",
        "COPY\n",
        "    src.ta(studyid, domain, armcd, arm, taetord, etcd, element, tabranch, tatrans, epoch)\n",
        "FROM '/content/source/ta.csv' DELIMITER ',' CSV HEADER;"
      ],
      "execution_count": null,
      "outputs": []
    },
    {
      "cell_type": "code",
      "metadata": {
        "colab": {
          "base_uri": "https://localhost:8080/",
          "height": 221
        },
        "id": "HlmldLRiSJXq",
        "outputId": "061502eb-7dc8-4f1d-f0e0-36dd57bad52c"
      },
      "source": [
        "%%sql\n",
        "\n",
        "SELECT usubjid, aeterm, aellt, aestdtc, aeendtc\n",
        "FROM src.ae\n",
        "LIMIT 5;"
      ],
      "execution_count": null,
      "outputs": []
    },
    {
      "cell_type": "code",
      "metadata": {
        "colab": {
          "base_uri": "https://localhost:8080/",
          "height": 221
        },
        "id": "TzJ5F3yPw8Fz",
        "outputId": "ae10823d-7fe4-48cc-aca8-2c2d55bb786c"
      },
      "source": [
        "%%sql\n",
        "\n",
        "SELECT usubjid, cmtrt, cmdose, cmdosu, cmdosfrq, cmroute, cmstdtc, cmendtc\n",
        "FROM src.cm\n",
        "LIMIT 5;"
      ],
      "execution_count": null,
      "outputs": []
    }
  ]
}